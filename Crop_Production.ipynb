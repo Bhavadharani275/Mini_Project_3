{
  "cells": [
    {
      "cell_type": "markdown",
      "metadata": {
        "id": "view-in-github",
        "colab_type": "text"
      },
      "source": [
        "<a href=\"https://colab.research.google.com/github/Bhavadharani275/Mini_Project_3/blob/main/Crop_Production.ipynb\" target=\"_parent\"><img src=\"https://colab.research.google.com/assets/colab-badge.svg\" alt=\"Open In Colab\"/></a>"
      ]
    },
    {
      "cell_type": "markdown",
      "metadata": {
        "id": "5Jj0ZV6Q2lRw"
      },
      "source": [
        "# Load a data"
      ]
    },
    {
      "cell_type": "code",
      "source": [
        "# upload the FAOSTAT_data.xlsx in google drive then mount it in google colab\n",
        "from google.colab import drive\n",
        "drive.mount('/content/drive')"
      ],
      "metadata": {
        "id": "q_2N_oXk2yb6"
      },
      "execution_count": null,
      "outputs": []
    },
    {
      "cell_type": "code",
      "execution_count": null,
      "metadata": {
        "id": "cVb0oMcw7rc_"
      },
      "outputs": [],
      "source": [
        "import pandas as pd\n",
        "\n",
        "# Load your Excel file\n",
        "df = pd.read_excel(\"/content/drive/MyDrive/FAOSTAT_data.xlsx\")"
      ]
    },
    {
      "cell_type": "code",
      "execution_count": null,
      "metadata": {
        "id": "U9H-zjrC_LUv"
      },
      "outputs": [],
      "source": [
        "df.head(5)"
      ]
    },
    {
      "cell_type": "code",
      "execution_count": null,
      "metadata": {
        "id": "nXRYUtBNAAB5"
      },
      "outputs": [],
      "source": [
        "df.shape"
      ]
    },
    {
      "cell_type": "markdown",
      "metadata": {
        "id": "Dj0939YSiSXT"
      },
      "source": [
        "# cleaning process"
      ]
    },
    {
      "cell_type": "code",
      "execution_count": null,
      "metadata": {
        "id": "FvvajqvsAAAd"
      },
      "outputs": [],
      "source": [
        "duplicates_shows = df[df.duplicated()]\n",
        "print(duplicates_shows)"
      ]
    },
    {
      "cell_type": "code",
      "execution_count": null,
      "metadata": {
        "id": "2ZEkQoG2BNUX"
      },
      "outputs": [],
      "source": [
        "# drop column\n",
        "crop_data = df.drop(['Domain Code','Area Code (M49)','Element Code','Item Code (CPC)','Year Code','Flag',\n",
        "       'Flag Description','Note'],axis=1)"
      ]
    },
    {
      "cell_type": "code",
      "execution_count": null,
      "metadata": {
        "id": "YjqM5PMKcHrP"
      },
      "outputs": [],
      "source": [
        "crop_data.duplicated().sum()"
      ]
    },
    {
      "cell_type": "code",
      "execution_count": null,
      "metadata": {
        "id": "jvBjAuhPBXhP"
      },
      "outputs": [],
      "source": [
        "crop_data.columns"
      ]
    },
    {
      "cell_type": "code",
      "execution_count": null,
      "metadata": {
        "id": "EYnLRAZ_BcVS"
      },
      "outputs": [],
      "source": [
        "crop_data.shape"
      ]
    },
    {
      "cell_type": "code",
      "execution_count": null,
      "metadata": {
        "id": "H5GW5kr-Bsms"
      },
      "outputs": [],
      "source": [
        "crop_data.head(5)"
      ]
    },
    {
      "cell_type": "code",
      "execution_count": null,
      "metadata": {
        "id": "6MO3QuBq_nhi"
      },
      "outputs": [],
      "source": [
        "crop_data.dtypes"
      ]
    },
    {
      "cell_type": "code",
      "execution_count": null,
      "metadata": {
        "id": "NFc1YDDz_pLQ"
      },
      "outputs": [],
      "source": [
        "crop_data.info()"
      ]
    },
    {
      "cell_type": "code",
      "execution_count": null,
      "metadata": {
        "id": "QlrRjhGcHKKU"
      },
      "outputs": [],
      "source": [
        "# Print number of missing values\n",
        "missing_value_counts=crop_data.isnull().sum()\n",
        "missing_value_counts"
      ]
    },
    {
      "cell_type": "code",
      "execution_count": null,
      "metadata": {
        "id": "NR0R1LyEHXCu"
      },
      "outputs": [],
      "source": [
        "# To see null row in id_method column\n",
        "show=crop_data[crop_data['Value'].isnull()]\n",
        "show.head(10)"
      ]
    },
    {
      "cell_type": "code",
      "execution_count": null,
      "metadata": {
        "id": "7xKXCsbXHz9S"
      },
      "outputs": [],
      "source": [
        "# unique in elemnt\n",
        "crop_data['Element'].unique()"
      ]
    },
    {
      "cell_type": "code",
      "execution_count": null,
      "metadata": {
        "id": "mGLHznKrLgw7"
      },
      "outputs": [],
      "source": [
        "crop_data['Item'].nunique()"
      ]
    },
    {
      "cell_type": "code",
      "execution_count": null,
      "metadata": {
        "id": "ijAl_OCIN3H3"
      },
      "outputs": [],
      "source": [
        "crop_data['Element'].value_counts()"
      ]
    },
    {
      "cell_type": "code",
      "execution_count": null,
      "metadata": {
        "id": "jTmTTDOcXud5"
      },
      "outputs": [],
      "source": [
        "crop_data['Value'].isnull().groupby(crop_data['Element']).sum()"
      ]
    },
    {
      "cell_type": "code",
      "execution_count": null,
      "metadata": {
        "id": "Ga6aAOnAYmU7"
      },
      "outputs": [],
      "source": [
        "crop_data_new=crop_data[crop_data['Element']=='Production'].reset_index(drop=True)\n",
        "crop_data_new.head(5)"
      ]
    },
    {
      "cell_type": "code",
      "execution_count": null,
      "metadata": {
        "id": "fXlJyyJOeIrC"
      },
      "outputs": [],
      "source": [
        "df_filtered = crop_data[crop_data['Element'].isin(['Area harvested', 'Yield', 'Production'])]\n",
        "print(df_filtered.shape)"
      ]
    },
    {
      "cell_type": "markdown",
      "metadata": {
        "id": "7U8LKhg923-V"
      },
      "source": [
        "# Transforming"
      ]
    },
    {
      "cell_type": "code",
      "execution_count": null,
      "metadata": {
        "id": "Ts6kTaeFaJlB"
      },
      "outputs": [],
      "source": [
        "crop_predict = df_filtered.pivot_table(\n",
        "    index=['Area', 'Item', 'Year'],\n",
        "    columns='Element',\n",
        "    values='Value'\n",
        ").reset_index()\n",
        "\n",
        "print(crop_predict.shape)"
      ]
    },
    {
      "cell_type": "code",
      "execution_count": null,
      "metadata": {
        "id": "T18YUvS0b_OT"
      },
      "outputs": [],
      "source": [
        "crop_predict.rename(columns={\n",
        "    'Area harvested': 'Area_harvested(ha)',\n",
        "    'Yield': 'Yield(kg/ha)',\n",
        "    'Production': 'Production(tons)'\n",
        "}, inplace=True)\n",
        "crop_predict.head(7)"
      ]
    },
    {
      "cell_type": "code",
      "execution_count": null,
      "metadata": {
        "id": "W5OmbETUmQdM"
      },
      "outputs": [],
      "source": [
        "crop_predict.to_excel('crop_predict.xlsx', index=False)"
      ]
    },
    {
      "cell_type": "code",
      "execution_count": null,
      "metadata": {
        "id": "ngRmDky8h5vL"
      },
      "outputs": [],
      "source": [
        "duplicate_sh = crop_predict[crop_predict.duplicated()]\n",
        "print(duplicate_sh)"
      ]
    },
    {
      "cell_type": "code",
      "execution_count": null,
      "metadata": {
        "id": "KXDLZEDqlsUy"
      },
      "outputs": [],
      "source": [
        "crop_predict.dtypes"
      ]
    },
    {
      "cell_type": "code",
      "execution_count": null,
      "metadata": {
        "id": "lErXVt1GlA_Z"
      },
      "outputs": [],
      "source": [
        "print(crop_predict.isna().sum())"
      ]
    },
    {
      "cell_type": "code",
      "execution_count": null,
      "metadata": {
        "id": "ia_NMr-soUU6"
      },
      "outputs": [],
      "source": [
        "crop_predict['Item'].unique()"
      ]
    },
    {
      "cell_type": "code",
      "execution_count": null,
      "metadata": {
        "id": "MQ5RxmFfqwRw"
      },
      "outputs": [],
      "source": [
        "# delete the non-crop products\n",
        "livestock_items = [\n",
        "    'Butter and ghee of sheep milk', 'Butter of cow milk',\n",
        "    'Whole milk, condensed', 'Whole milk, evaporated',\n",
        "    'Cheese from milk of goats, fresh or processed',\n",
        "    'Cheese from milk of sheep, fresh or processed',\n",
        "    'Cheese from whole cow milk', 'Cheese from skimmed cow milk',\n",
        "    'Ghee from cow milk', 'Butter of buffalo milk',\n",
        "    'Raw milk of cattle', 'Raw milk of goats', 'Raw milk of sheep',\n",
        "    'Raw milk of buffalo', 'Skim milk of cows', 'Skim milk, condensed',\n",
        "    'Skim milk, evaporated', 'Whole milk powder', 'Whey, dry',\n",
        "    'Whey, condensed', 'Yoghurt', 'Milk Animals'\n",
        "]"
      ]
    },
    {
      "cell_type": "code",
      "execution_count": null,
      "metadata": {
        "id": "LtEMhGYkosZx"
      },
      "outputs": [],
      "source": [
        "item_counts = crop_predict[crop_predict['Item'].isin(livestock_items)]['Item'].value_counts()\n",
        "\n",
        "print(item_counts)"
      ]
    },
    {
      "cell_type": "code",
      "execution_count": null,
      "metadata": {
        "id": "0V8A5seMrhBO"
      },
      "outputs": [],
      "source": [
        "total_livestock_rows = item_counts.sum()\n",
        "\n",
        "print(total_livestock_rows)"
      ]
    },
    {
      "cell_type": "code",
      "execution_count": null,
      "metadata": {
        "id": "VZi0KjAGrssv"
      },
      "outputs": [],
      "source": [
        "# unique word to remove non-crop product\n",
        "crop_predict_new = crop_predict[~crop_predict['Item'].str.contains(\n",
        "    'wine|beer|oil|cocoa|coffee|molasses|sugar|tobacco|tea|truffles|rubber|coir|jute|tallow|peppermint|spearmint|palm|palm kernel|palm oil|cottonseed oil|Shorn wool|Margarine and shortening|Cream, fresh|Raw silk|Silk-worm|Beeswax|honey|chickens|pig|snails|buffalo|milk|butter|ghee|cheese|whey|yoghurt|goat|sheep|camels|cattle|meat|eggs|pigs|Edible offals of horses and other equines', case=False, na=False\n",
        ")]"
      ]
    },
    {
      "cell_type": "code",
      "execution_count": null,
      "metadata": {
        "id": "3-zsNKwJskfO"
      },
      "outputs": [],
      "source": [
        "crop_predict_new.shape"
      ]
    },
    {
      "cell_type": "code",
      "execution_count": null,
      "metadata": {
        "id": "o_iQc_1IspWM"
      },
      "outputs": [],
      "source": [
        "crop_predict_new['Item'].unique()"
      ]
    },
    {
      "cell_type": "code",
      "execution_count": null,
      "metadata": {
        "id": "FUOLZoxfxv9U"
      },
      "outputs": [],
      "source": [
        "print(crop_predict.isna().sum())\n",
        "print(crop_predict.shape)"
      ]
    },
    {
      "cell_type": "code",
      "execution_count": null,
      "metadata": {
        "id": "m_FFaRx5H2MP"
      },
      "outputs": [],
      "source": [
        "crop_predict_new.info()"
      ]
    },
    {
      "cell_type": "code",
      "execution_count": null,
      "metadata": {
        "id": "NUDFWAHqtEYs"
      },
      "outputs": [],
      "source": [
        "print(crop_predict_new.isna().sum())\n",
        "print(crop_predict_new.shape)"
      ]
    },
    {
      "cell_type": "code",
      "execution_count": null,
      "metadata": {
        "id": "-2y10fOUJk89"
      },
      "outputs": [],
      "source": [
        "# Assing 0 to production and yield if area harvested has 0\n",
        "crop_predict_new.loc[crop_predict_new['Area_harvested(ha)'] == 0, ['Production(tons)', 'Yield(kg/ha)']] = 0"
      ]
    },
    {
      "cell_type": "code",
      "execution_count": null,
      "metadata": {
        "id": "71AWlWQZxx8w"
      },
      "outputs": [],
      "source": [
        "crop_predict_new[crop_predict_new['Production(tons)'].isnull()]"
      ]
    },
    {
      "cell_type": "code",
      "execution_count": null,
      "metadata": {
        "id": "weTRnYn0SCpW"
      },
      "outputs": [],
      "source": [
        "# True → production will be imputed\n",
        "# False → production is original\n",
        "\n",
        "crop_predict_new['Prod_imputed'] = crop_predict_new['Production(tons)'].isna()"
      ]
    },
    {
      "cell_type": "code",
      "execution_count": null,
      "metadata": {
        "id": "Hf_oiRlROCCk"
      },
      "outputs": [],
      "source": [
        "# Compute global averages for each crop\n",
        "crop_avg = crop_predict_new.groupby('Item')[['Production(tons)', 'Yield(kg/ha)']].mean()\n",
        "\n",
        "# Fill missing Production using global crop average\n",
        "crop_predict_new['Production(tons)'] = crop_predict_new.apply(\n",
        "    lambda row: crop_avg.loc[row['Item'], 'Production(tons)']\n",
        "                if pd.isna(row['Production(tons)']) else row['Production(tons)'],\n",
        "    axis=1\n",
        ")\n",
        "\n",
        "# Fill Yield using same approach\n",
        "crop_predict_new['Yield(kg/ha)'] = crop_predict_new.apply(\n",
        "    lambda row: crop_avg.loc[row['Item'], 'Yield(kg/ha)']\n",
        "                if pd.isna(row['Yield(kg/ha)']) else row['Yield(kg/ha)'],\n",
        "    axis=1\n",
        ")"
      ]
    },
    {
      "cell_type": "code",
      "execution_count": null,
      "metadata": {
        "id": "ZUIuT0gGOQdU"
      },
      "outputs": [],
      "source": [
        "crop_predict_new[crop_predict_new['Production(tons)'].isnull()]"
      ]
    },
    {
      "cell_type": "code",
      "execution_count": null,
      "metadata": {
        "id": "FrzVMpmm4jdH"
      },
      "outputs": [],
      "source": [
        "crop_predict_new[crop_predict_new['Yield(kg/ha)'].isnull()]"
      ]
    },
    {
      "cell_type": "code",
      "execution_count": null,
      "metadata": {
        "id": "Xxa3p4WsX3mF"
      },
      "outputs": [],
      "source": [
        "items_with_nan_yield = crop_predict_new[crop_predict_new['Yield(kg/ha)'].isna()]['Item'].unique()\n",
        "print(items_with_nan_yield)"
      ]
    },
    {
      "cell_type": "code",
      "execution_count": null,
      "metadata": {
        "id": "7p_g7LSYYCEY"
      },
      "outputs": [],
      "source": [
        "# Identify items where all rows have NaN for Yield and Area\n",
        "items_all_nan = crop_predict_new.groupby('Item').apply(\n",
        "    lambda x: x['Yield(kg/ha)'].isna().all() and x['Area_harvested(ha)'].isna().all()\n",
        ").loc[lambda x: x].index.tolist()\n",
        "\n",
        "# Set a placeholder Yield (example: 1000 kg/ha)\n",
        "placeholder_yield = 1000\n",
        "\n",
        "# Impute Yield for these items\n",
        "crop_predict_new.loc[crop_predict_new['Item'].isin(items_all_nan), 'Yield(kg/ha)'] = placeholder_yield\n",
        "\n",
        "# Compute Area if Production exists\n",
        "crop_predict_new.loc[crop_predict_new['Item'].isin(items_all_nan) & crop_predict_new['Production(tons)'].notna(), 'Area_harvested(ha)'] = \\\n",
        "    crop_predict_new['Production(tons)'] * 1000 / placeholder_yield\n",
        "\n",
        "# Flag these rows as imputed\n",
        "crop_predict_new['area_imputed'] = crop_predict_new.get('area_imputed', False)  # create column if not exists\n",
        "crop_predict_new['yield_imputed'] = crop_predict_new.get('yield_imputed', False)  # create column if not exists\n",
        "# crop_predict_new.loc[crop_predict_new['Item'].isin(items_all_nan), 'imputed'] = True"
      ]
    },
    {
      "cell_type": "code",
      "execution_count": null,
      "metadata": {
        "id": "Iyf9M3yyYGp2"
      },
      "outputs": [],
      "source": [
        "crop_predict_new[crop_predict_new['Yield(kg/ha)'].isnull()]"
      ]
    },
    {
      "cell_type": "code",
      "execution_count": null,
      "metadata": {
        "id": "Y59RyXiW9s5j"
      },
      "outputs": [],
      "source": [
        "crop_predict_new[crop_predict_new['Area_harvested(ha)'].isnull()]"
      ]
    },
    {
      "cell_type": "code",
      "execution_count": null,
      "metadata": {
        "id": "9MbTlzPcX6Z9"
      },
      "outputs": [],
      "source": [
        "items_with_nan_area = crop_predict_new[crop_predict_new['Area_harvested(ha)'].isna()]['Item'].unique()\n",
        "print(items_with_nan_area)"
      ]
    },
    {
      "cell_type": "code",
      "execution_count": null,
      "metadata": {
        "id": "MjHUoThiZCPn"
      },
      "outputs": [],
      "source": [
        "# Compute missing Area_harvested where Yield and Production exist\n",
        "mask_area_missing = crop_predict_new['Area_harvested(ha)'].isna() & crop_predict_new['Yield(kg/ha)'].notna() & crop_predict_new['Production(tons)'].notna()\n",
        "\n",
        "crop_predict_new.loc[mask_area_missing, 'Area_harvested(ha)'] = \\\n",
        "   crop_predict_new.loc[mask_area_missing, 'Production(tons)'] * 1000 / crop_predict_new.loc[mask_area_missing, 'Yield(kg/ha)']\n",
        "\n",
        "# Flag these rows as imputed for Area\n",
        "crop_predict_new['area_imputed'] =crop_predict_new.get('area_imputed', False)\n",
        "crop_predict_new.loc[mask_area_missing, 'area_imputed'] = True\n",
        "\n",
        "\n"
      ]
    },
    {
      "cell_type": "code",
      "execution_count": null,
      "metadata": {
        "id": "bLoapIDGX0QA"
      },
      "outputs": [],
      "source": [
        "crop_predict_new[crop_predict_new['Area_harvested(ha)'].isnull()]"
      ]
    },
    {
      "cell_type": "code",
      "execution_count": null,
      "metadata": {
        "id": "1-Mt48f6VdQG"
      },
      "outputs": [],
      "source": [
        "crop_predict_new.to_excel('crop_predict_new.xlsx', index=False)"
      ]
    },
    {
      "cell_type": "code",
      "execution_count": null,
      "metadata": {
        "id": "Zyo0uuOaNcfK"
      },
      "outputs": [],
      "source": [
        "crop_predict_new[['Area_harvested(ha)', 'Production(tons)', 'Yield(kg/ha)']].describe()"
      ]
    },
    {
      "cell_type": "code",
      "execution_count": null,
      "metadata": {
        "id": "RmuJu1NVw-LV"
      },
      "outputs": [],
      "source": [
        "crop_predict_new[\"Area_harvested(ha)\"].max()"
      ]
    },
    {
      "cell_type": "code",
      "execution_count": null,
      "metadata": {
        "id": "Lm5DhSSf4aQ-"
      },
      "outputs": [],
      "source": [
        "# Replace misencoded names in 'Area' column\n",
        "crop_predict_new['Area'] = crop_predict_new['Area'].replace({\n",
        "    \"C�te d'Ivoire\": \"Cote d'Ivoire\",\n",
        "    \"T�rkiye\": \"Turkiye\"\n",
        "})\n",
        "\n",
        "# Replace misencoded names in 'Item' column\n",
        "crop_predict_new['Item'] = crop_predict_new['Item'].replace({\n",
        "    \"Mat� leaves\": \"Mate leaves\"\n",
        "})\n",
        "\n",
        "# Verify replacements\n",
        "print(crop_predict_new.loc[\n",
        "    (crop_predict_new['Area'].isin([\"Cote d'Ivoire\", \"Turkiye\"])) |\n",
        "    (crop_predict_new['Item'].isin([\"Mate leaves\"])),\n",
        "    ['Area', 'Item']\n",
        "].drop_duplicates())"
      ]
    },
    {
      "cell_type": "code",
      "execution_count": null,
      "metadata": {
        "id": "F2lXAb8fBydD"
      },
      "outputs": [],
      "source": [
        "Production_df = crop_predict_new[\n",
        "    (crop_predict_new['Area_harvested(ha)'] > 0) &\n",
        "    (crop_predict_new['Yield(kg/ha)'] > 0) &\n",
        "    (~crop_predict_new['Area_harvested(ha)'].isna()) &\n",
        "    (~crop_predict_new['Yield(kg/ha)'].isna())\n",
        "].copy()\n"
      ]
    },
    {
      "cell_type": "code",
      "execution_count": null,
      "metadata": {
        "id": "Lhz_AyhkB45q"
      },
      "outputs": [],
      "source": [
        "crop_predict_new.shape"
      ]
    },
    {
      "cell_type": "code",
      "execution_count": null,
      "metadata": {
        "id": "PrUddLKtByaM"
      },
      "outputs": [],
      "source": [
        "Production_df.shape"
      ]
    },
    {
      "cell_type": "code",
      "execution_count": null,
      "metadata": {
        "id": "8CHkRgmyNTkD"
      },
      "outputs": [],
      "source": [
        "Production_df[\"Item\"].unique()"
      ]
    },
    {
      "cell_type": "code",
      "execution_count": null,
      "metadata": {
        "id": "OicAINrKDF5j"
      },
      "outputs": [],
      "source": [
        "print(Production_df[\"Area_harvested(ha)\"].min())\n",
        "print(Production_df[\"Area_harvested(ha)\"].max())\n",
        "print(crop_predict_new[\"Area_harvested(ha)\"].min())\n",
        "print(crop_predict_new[\"Area_harvested(ha)\"].max())"
      ]
    },
    {
      "cell_type": "code",
      "execution_count": null,
      "metadata": {
        "id": "NAydgq4vHsv6"
      },
      "outputs": [],
      "source": [
        "Production_df.head()"
      ]
    },
    {
      "cell_type": "code",
      "execution_count": null,
      "metadata": {
        "id": "1C_NmzWPyIgA"
      },
      "outputs": [],
      "source": [
        "# final dataset\n",
        "Production_df.to_excel('crop_production.xlsx', index=False)"
      ]
    },
    {
      "cell_type": "code",
      "execution_count": null,
      "metadata": {
        "id": "KotOUwBUlKUN"
      },
      "outputs": [],
      "source": [
        "Production_df[\"Item\"].unique()"
      ]
    },
    {
      "cell_type": "markdown",
      "metadata": {
        "id": "h74UjfRD4ezH"
      },
      "source": [
        "# Distributions"
      ]
    },
    {
      "cell_type": "code",
      "execution_count": null,
      "metadata": {
        "id": "Crnl_PjQtlXN"
      },
      "outputs": [],
      "source": [
        "import plotly.express as px\n",
        "\n",
        "num_cols = ['Area_harvested(ha)', 'Yield(kg/ha)', 'Production(tons)']\n",
        "\n",
        "for col in num_cols:\n",
        "    fig = px.histogram(Production_df, x=col, nbins=50, title=f'Distribution of {col}')\n",
        "    fig.show()"
      ]
    },
    {
      "cell_type": "code",
      "execution_count": null,
      "metadata": {
        "id": "XPcIjKprv1t6"
      },
      "outputs": [],
      "source": [
        "fig = px.histogram(Production_df, x='Production(tons)', nbins=50, log_y=True, title='Log-scaled Production Distribution')\n",
        "fig.show()"
      ]
    },
    {
      "cell_type": "markdown",
      "metadata": {
        "id": "ieCapaC94iR-"
      },
      "source": [
        "# Correlations"
      ]
    },
    {
      "cell_type": "code",
      "execution_count": null,
      "metadata": {
        "id": "VDeXkSIcx1yH"
      },
      "outputs": [],
      "source": [
        "import plotly.figure_factory as ff\n",
        "import numpy as np\n",
        "\n",
        "# Compute correlation matrix\n",
        "corr = Production_df[num_cols].corr().round(2)\n",
        "\n",
        "# Interactive heatmap\n",
        "fig = ff.create_annotated_heatmap(\n",
        "    z=corr.values,\n",
        "    x=list(corr.columns),\n",
        "    y=list(corr.index),\n",
        "    colorscale='Viridis',\n",
        "    showscale=True\n",
        ")\n",
        "fig.update_layout(title='Correlation Heatmap')\n",
        "fig.show()\n"
      ]
    },
    {
      "cell_type": "markdown",
      "metadata": {
        "id": "dH-Ufwtv4leE"
      },
      "source": [
        "# Relationships / Scatter Plots"
      ]
    },
    {
      "cell_type": "code",
      "execution_count": null,
      "metadata": {
        "id": "pNqnTYHgx2Je"
      },
      "outputs": [],
      "source": [
        "# Area vs Production\n",
        "fig = px.scatter(Production_df, x='Area_harvested(ha)', y='Production(tons)',\n",
        "                 color='Item', hover_data=['Year', 'Area'], title='Area vs Production')\n",
        "\n",
        "fig.update_layout(height=600, width=2000)\n",
        "fig.show()\n",
        "\n",
        "# Yield vs Production\n",
        "fig = px.scatter(Production_df, x='Yield(kg/ha)', y='Production(tons)',\n",
        "                 color='Item', hover_data=['Year', 'Area'], title='Yield vs Production')\n",
        "\n",
        "fig.update_layout(height=600, width=2000)\n",
        "fig.show()"
      ]
    },
    {
      "cell_type": "markdown",
      "metadata": {
        "id": "ehFnL3dvjMuT"
      },
      "source": [
        "# Analyze Crop Distribution"
      ]
    },
    {
      "cell_type": "markdown",
      "metadata": {
        "id": "XtQvKVxgmGmN"
      },
      "source": [
        "## Crop Types"
      ]
    },
    {
      "cell_type": "markdown",
      "metadata": {
        "id": "7sqOILBQkSQl"
      },
      "source": [
        "### most cultivated crops"
      ]
    },
    {
      "cell_type": "code",
      "execution_count": null,
      "metadata": {
        "id": "uFxwZaSihMBs"
      },
      "outputs": [],
      "source": [
        "import plotly.express as px\n",
        "\n",
        "# Count the occurrences of each crop type\n",
        "crop_counts = Production_df['Item'].value_counts().reset_index()\n",
        "crop_counts.columns = ['Item', 'Count']\n",
        "\n",
        "# Top 15 most cultivated crops\n",
        "top_crops = crop_counts.head(20)\n",
        "\n",
        "# Plotly bar chart\n",
        "fig = px.bar(\n",
        "    top_crops,\n",
        "    x='Item',\n",
        "    y='Count',\n",
        "    title='Top 15 Most Cultivated Crop Types Across Regions',\n",
        "    text='Count',\n",
        "    color='Count',\n",
        "    color_continuous_scale='Viridis'\n",
        ")\n",
        "\n",
        "fig.update_layout(\n",
        "    xaxis_title=\"Crop Type (Item)\",\n",
        "    yaxis_title=\"Number of Records\",\n",
        "    xaxis_tickangle=45,\n",
        "    title_x=0.5\n",
        ")\n",
        "\n",
        "fig.show()\n"
      ]
    },
    {
      "cell_type": "markdown",
      "metadata": {
        "id": "q6RCqQDbkXsz"
      },
      "source": [
        "### least cultivated crops"
      ]
    },
    {
      "cell_type": "code",
      "execution_count": null,
      "metadata": {
        "id": "b0YJAn-ZhL85"
      },
      "outputs": [],
      "source": [
        "# Bottom 15 least cultivated crops\n",
        "least_crops = crop_counts.tail(15)\n",
        "\n",
        "fig = px.bar(\n",
        "    least_crops,\n",
        "    x='Item',\n",
        "    y='Count',\n",
        "    title='Least Cultivated Crop Types Across Regions',\n",
        "    text='Count',\n",
        "    color='Count',\n",
        "    color_continuous_scale='Reds'\n",
        ")\n",
        "\n",
        "fig.update_layout(\n",
        "    xaxis_title=\"Crop Type (Item)\",\n",
        "    yaxis_title=\"Number of Records\",\n",
        "    xaxis_tickangle=45,\n",
        "    title_x=0.5\n",
        ")\n",
        "\n",
        "fig.show()\n"
      ]
    },
    {
      "cell_type": "markdown",
      "metadata": {
        "id": "101YdIcylB1e"
      },
      "source": [
        "### Region-Wise Crop Distribution (Heatmap)"
      ]
    },
    {
      "cell_type": "code",
      "execution_count": null,
      "metadata": {
        "id": "EkK8W-5hhL7M"
      },
      "outputs": [],
      "source": [
        "import plotly.express as px\n",
        "import pandas as pd\n",
        "\n",
        "# Create a pivot table: Countries vs Crops\n",
        "region_crop = (\n",
        "    Production_df\n",
        "    .groupby(['Area', 'Item'])\n",
        "    .size()\n",
        "    .reset_index(name='Count')\n",
        ")\n",
        "\n",
        "# Filter top 20 crops for clarity\n",
        "top_items = region_crop['Item'].value_counts().head(20).index\n",
        "region_crop_filtered = region_crop[region_crop['Item'].isin(top_items)]\n",
        "\n",
        "# Plotly heatmap\n",
        "fig = px.density_heatmap(\n",
        "    region_crop_filtered,\n",
        "    x='Item',\n",
        "    y='Area',\n",
        "    z='Count',\n",
        "    color_continuous_scale='Viridis',\n",
        "    title='🌍 Region-wise Distribution of Top 20 Crops',\n",
        ")\n",
        "\n",
        "fig.update_layout(\n",
        "    xaxis_title=\"Crop Type (Item)\",\n",
        "    yaxis_title=\"Country (Area)\",\n",
        "    title_x=0.5,\n",
        "    height=1000,\n",
        "    width=1500)\n",
        "\n",
        "fig.show()\n"
      ]
    },
    {
      "cell_type": "markdown",
      "metadata": {
        "id": "LeIZTGAomSaR"
      },
      "source": [
        "## Geographical Distribution"
      ]
    },
    {
      "cell_type": "markdown",
      "metadata": {
        "id": "hdTpqK0gr652"
      },
      "source": [
        "### Agricultural Production by Country"
      ]
    },
    {
      "cell_type": "code",
      "execution_count": null,
      "metadata": {
        "id": "KSDdTpgXhL0P"
      },
      "outputs": [],
      "source": [
        "import plotly.express as px\n",
        "import pandas as pd\n",
        "\n",
        "# Aggregate production by country\n",
        "geo_df = (\n",
        "    Production_df.groupby('Area', as_index=False)['Production(tons)']\n",
        "    .sum()\n",
        "    .sort_values(by='Production(tons)', ascending=False)\n",
        ")\n",
        "\n",
        "# Plot Choropleth Map\n",
        "fig = px.choropleth(\n",
        "    geo_df,\n",
        "    locations='Area',\n",
        "    locationmode='country names',\n",
        "    color='Production(tons)',\n",
        "    hover_name='Area',\n",
        "    color_continuous_scale='YlGn',\n",
        "    title='🌾 Global Agricultural Production by Country'\n",
        ")\n",
        "\n",
        "fig.update_layout(\n",
        "    title_x=0.5,\n",
        "    geo=dict(showframe=False, showcoastlines=True, projection_type='natural earth')\n",
        ")\n",
        "fig.show()\n"
      ]
    },
    {
      "cell_type": "markdown",
      "metadata": {
        "id": "IilKwxZRsAkC"
      },
      "source": [
        "### Top Agricultural Regions"
      ]
    },
    {
      "cell_type": "code",
      "execution_count": null,
      "metadata": {
        "id": "5wSPiwvnhLvS"
      },
      "outputs": [],
      "source": [
        "fig = px.bar(\n",
        "    geo_df.head(20),\n",
        "    x='Area',\n",
        "    y='Production(tons)',\n",
        "    color='Production(tons)',\n",
        "    title='🏆 Top 15 Agricultural Producers',\n",
        "    color_continuous_scale='Greens'\n",
        ")\n",
        "\n",
        "fig.update_layout(\n",
        "    xaxis_title='Country',\n",
        "    yaxis_title='Total Production (tons)',\n",
        "    title_x=0.5\n",
        ")\n",
        "fig.show()\n"
      ]
    },
    {
      "cell_type": "markdown",
      "metadata": {
        "id": "XBgaMF1trklU"
      },
      "source": [
        "### Crop Specialization by Region"
      ]
    },
    {
      "cell_type": "code",
      "execution_count": null,
      "metadata": {
        "id": "PgTkwg2EhLtJ"
      },
      "outputs": [],
      "source": [
        "import plotly.express as px\n",
        "\n",
        "# Aggregate by Area and Item\n",
        "region_crop_prod = (\n",
        "    Production_df.groupby(['Area', 'Item'], as_index=False)['Production(tons)'].sum()\n",
        ")\n",
        "\n",
        "# Keep top 20 countries for readability\n",
        "top_countries = region_crop_prod.groupby('Area')['Production(tons)'].sum().nlargest(20).index\n",
        "region_crop_prod = region_crop_prod[region_crop_prod['Area'].isin(top_countries)]\n",
        "\n",
        "# Scatter plot\n",
        "fig = px.scatter(\n",
        "    region_crop_prod,\n",
        "    x=\"Area\",\n",
        "    y=\"Production(tons)\",\n",
        "    color=\"Item\",\n",
        "    size=\"Production(tons)\",\n",
        "    hover_name=\"Item\",\n",
        "    title=\"🌾 Crop Specialization by Region (Top 20 Countries)\",\n",
        ")\n",
        "\n",
        "fig.update_layout(\n",
        "    title_x=0.5,\n",
        "    xaxis_title=\"Country\",\n",
        "    yaxis_title=\"Total Production (tons)\",\n",
        "    xaxis_tickangle=45,\n",
        "    plot_bgcolor=\"white\",\n",
        "    height=600, width=1500\n",
        ")\n",
        "\n",
        "fig.show()\n"
      ]
    },
    {
      "cell_type": "markdown",
      "metadata": {
        "id": "3i5d6F73sJoy"
      },
      "source": [
        "# Temporal Analysis"
      ]
    },
    {
      "cell_type": "markdown",
      "metadata": {
        "id": "qDGGQm7HsOzt"
      },
      "source": [
        "### Yearly Trends: Area, Yield & Production"
      ]
    },
    {
      "cell_type": "code",
      "execution_count": null,
      "metadata": {
        "id": "60Fsms5GhLrR"
      },
      "outputs": [],
      "source": [
        "import plotly.express as px\n",
        "import pandas as pd\n",
        "\n",
        "# Group by Year and aggregate numeric columns\n",
        "yearly_trends = (\n",
        "    Production_df.groupby('Year', as_index=False)[\n",
        "        ['Area_harvested(ha)', 'Yield(kg/ha)', 'Production(tons)']\n",
        "    ].mean()\n",
        ")\n",
        "\n",
        "# Melt the DataFrame for easy plotting\n",
        "yearly_melted = yearly_trends.melt(id_vars='Year',\n",
        "                                   value_vars=['Area_harvested(ha)', 'Yield(kg/ha)', 'Production(tons)'],\n",
        "                                   var_name='Metric',\n",
        "                                   value_name='Value')\n",
        "\n",
        "# Line plot\n",
        "fig = px.line(\n",
        "    yearly_melted,\n",
        "    x='Year',\n",
        "    y='Value',\n",
        "    color='Metric',\n",
        "    markers=True,\n",
        "    title=\"📈 Yearly Trends in Area Harvested, Yield, and Production\"\n",
        ")\n",
        "\n",
        "fig.update_layout(\n",
        "    title_x=0.5,\n",
        "    xaxis_title=\"Year\",\n",
        "    yaxis_title=\"Average Value\",\n",
        "    plot_bgcolor=\"white\",\n",
        "    hovermode=\"x unified\"\n",
        ")\n",
        "\n",
        "fig.show()\n",
        "\n"
      ]
    },
    {
      "cell_type": "markdown",
      "metadata": {
        "id": "fc029vvP1enV"
      },
      "source": [
        "### Growth Analysis"
      ]
    },
    {
      "cell_type": "markdown",
      "metadata": {
        "id": "QH-xW5Fb1sso"
      },
      "source": [
        "#### Crop-Wise Growth Trend"
      ]
    },
    {
      "cell_type": "code",
      "execution_count": null,
      "metadata": {
        "id": "knI1WOM8hLob"
      },
      "outputs": [],
      "source": [
        "import pandas as pd\n",
        "import plotly.express as px\n",
        "\n",
        "# Aggregate by Item (crop) and Year\n",
        "crop_growth = (\n",
        "    Production_df.groupby(['Item', 'Year'], as_index=False)[['Yield(kg/ha)', 'Production(tons)']].mean()\n",
        ")\n",
        "\n",
        "# Example: show only top 10 crops (by total production)\n",
        "top_crops = (\n",
        "    crop_growth.groupby('Item')['Production(tons)']\n",
        "    .sum()\n",
        "    .nlargest(20)\n",
        "    .index\n",
        ")\n",
        "crop_growth = crop_growth[crop_growth['Item'].isin(top_crops)]\n",
        "\n",
        "# Line plot for yield trend\n",
        "fig = px.line(\n",
        "    crop_growth,\n",
        "    x='Year',\n",
        "    y='Yield(kg/ha)',\n",
        "    color='Item',\n",
        "    title=\"🌾 Crop-wise Yield Trends (Top 10 Crops)\",\n",
        "    markers=True\n",
        ")\n",
        "fig.update_layout(title_x=0.5, plot_bgcolor=\"white\")\n",
        "fig.show()\n",
        "\n",
        "# Line plot for production trend\n",
        "fig = px.line(\n",
        "    crop_growth,\n",
        "    x='Year',\n",
        "    y='Production(tons)',\n",
        "    color='Item',\n",
        "    title=\"🌾 Crop-wise Production Trends (Top 10 Crops)\",\n",
        "    markers=True\n",
        ")\n",
        "fig.update_layout(title_x=0.5, plot_bgcolor=\"white\")\n",
        "fig.show()\n"
      ]
    },
    {
      "cell_type": "markdown",
      "metadata": {
        "id": "ViJWv5vM4-nY"
      },
      "source": [
        "#### Region-wise Production Trends"
      ]
    },
    {
      "cell_type": "code",
      "execution_count": null,
      "metadata": {
        "id": "onYiiSr7hLmm"
      },
      "outputs": [],
      "source": [
        "# Aggregate by Area (country) and Year\n",
        "region_growth = (\n",
        "    Production_df.groupby(['Area', 'Year'], as_index=False)[['Yield(kg/ha)', 'Production(tons)']].mean()\n",
        ")\n",
        "\n",
        "# Top 10 countries by total production\n",
        "top_regions = region_growth.groupby('Area')['Production(tons)'].sum().nlargest(10).index\n",
        "region_growth = region_growth[region_growth['Area'].isin(top_regions)]\n",
        "\n",
        "# Plot\n",
        "fig = px.line(\n",
        "    region_growth,\n",
        "    x='Year',\n",
        "    y='Production(tons)',\n",
        "    color='Area',\n",
        "    title=\"🌍 Region-wise Production Trends (Top 10 Countries)\",\n",
        "    markers=True\n",
        ")\n",
        "fig.update_layout(title_x=0.5, plot_bgcolor=\"white\")\n",
        "fig.show()\n",
        "\n"
      ]
    },
    {
      "cell_type": "markdown",
      "metadata": {
        "id": "z2sE-Uh85kFh"
      },
      "source": [
        "#  Infer relationships"
      ]
    },
    {
      "cell_type": "markdown",
      "metadata": {
        "id": "RUM5mObh638b"
      },
      "source": [
        "## Correlation Between Area, Yield, and Production"
      ]
    },
    {
      "cell_type": "code",
      "execution_count": null,
      "metadata": {
        "id": "gZH6aXFf3A14"
      },
      "outputs": [],
      "source": [
        "import plotly.figure_factory as ff\n",
        "\n",
        "corr = Production_df[['Area_harvested(ha)', 'Yield(kg/ha)', 'Production(tons)']].corr().round(2)\n",
        "\n",
        "fig = ff.create_annotated_heatmap(\n",
        "    z=corr.values,\n",
        "    x=list(corr.columns),\n",
        "    y=list(corr.columns),\n",
        "    colorscale='Viridis',\n",
        "    showscale=True\n",
        ")\n",
        "\n",
        "fig.update_layout(title=\"📈 Correlation Between Area, Yield, and Production\", title_x=0.5)\n",
        "fig.show()\n"
      ]
    },
    {
      "cell_type": "markdown",
      "metadata": {
        "id": "nMBG0CmSSBuB"
      },
      "source": [
        "# Input-Output Relationships"
      ]
    },
    {
      "cell_type": "code",
      "execution_count": null,
      "metadata": {
        "id": "4oY8kN863AzT"
      },
      "outputs": [],
      "source": [
        "import pandas as pd\n",
        "\n",
        "# Select relevant columns\n",
        "cols = ['Area_harvested(ha)', 'Yield(kg/ha)', 'Production(tons)']\n",
        "corr_matrix = Production_df[cols].corr()\n",
        "\n",
        "print(corr_matrix)\n"
      ]
    },
    {
      "cell_type": "code",
      "execution_count": null,
      "metadata": {
        "id": "pVxO90Xh3AxP"
      },
      "outputs": [],
      "source": [
        "import plotly.express as px\n",
        "\n",
        "# Production vs Area harvested\n",
        "fig1 = px.scatter(Production_df, x='Area_harvested(ha)', y='Production(tons)',\n",
        "                  title='Production vs Area Harvested', trendline='ols')\n",
        "fig1.show()\n",
        "\n",
        "# Production vs Yield\n",
        "fig2 = px.scatter(Production_df, x='Yield(kg/ha)', y='Production(tons)',\n",
        "                  title='Production vs Yield', trendline='ols')\n",
        "fig2.show()\n"
      ]
    },
    {
      "cell_type": "markdown",
      "metadata": {
        "id": "prLcVJOGU2RQ"
      },
      "source": [
        "# Comparative Analysis"
      ]
    },
    {
      "cell_type": "markdown",
      "metadata": {
        "id": "PgQ1pmRuU7vq"
      },
      "source": [
        "## Across Crops"
      ]
    },
    {
      "cell_type": "code",
      "execution_count": null,
      "metadata": {
        "id": "liREJn4b3Au-"
      },
      "outputs": [],
      "source": [
        "import pandas as pd\n",
        "\n",
        "crop_yield_stats = (\n",
        "    Production_df\n",
        "    .groupby('Item')['Yield(kg/ha)']\n",
        "    .agg(['mean', 'median', 'std', 'count'])\n",
        "    .sort_values(by='mean', ascending=False)\n",
        ")\n",
        "\n",
        "print(crop_yield_stats.head(10))  # Top 10 high-yield crops\n",
        "print(crop_yield_stats.tail(10))  # Bottom 10 low-yield crops\n"
      ]
    },
    {
      "cell_type": "markdown",
      "metadata": {
        "id": "IiXBdLOjXJQg"
      },
      "source": [
        "### Distribution of Yield per Crop"
      ]
    },
    {
      "cell_type": "code",
      "execution_count": null,
      "metadata": {
        "id": "ZWVf8MXD3Asp"
      },
      "outputs": [],
      "source": [
        "#Boxplot\n",
        "import plotly.express as px\n",
        "\n",
        "# Optional: select top 20 crops for clarity\n",
        "top_crops = Production_df['Item'].value_counts().head(20).index\n",
        "df_top_crops = Production_df[crop_predict_new['Item'].isin(top_crops)]\n",
        "\n",
        "fig = px.box(\n",
        "    df_top_crops,\n",
        "    x='Item',\n",
        "    y='Yield(kg/ha)',\n",
        "    color='Item',\n",
        "    title='Crop-Wise Yield Distribution',\n",
        "    points='all'  # 'outliers' to show only outliers\n",
        ")\n",
        "\n",
        "fig.update_layout(\n",
        "    xaxis_title=\"Crop\",\n",
        "    yaxis_title=\"Yield (kg/ha)\",\n",
        "    xaxis_tickangle=-45,\n",
        "    showlegend=False,\n",
        "    title_x=0.5,\n",
        "    height=1000,\n",
        "    width=1500)\n",
        "fig.show()\n"
      ]
    },
    {
      "cell_type": "markdown",
      "metadata": {
        "id": "EcGDuxv5Xc9x"
      },
      "source": [
        "### Mean Yield per Crop"
      ]
    },
    {
      "cell_type": "code",
      "execution_count": null,
      "metadata": {
        "id": "c70lOFIuVGge"
      },
      "outputs": [],
      "source": [
        "mean_yield = Production_df.groupby('Item')['Yield(kg/ha)'].mean().sort_values(ascending=False)\n",
        "\n",
        "fig = px.bar(\n",
        "    mean_yield.head(20),  # Top 20 high-yield crops\n",
        "    x=mean_yield.head(20).values,\n",
        "    y=mean_yield.head(20).index,\n",
        "    orientation='h',\n",
        "    title='Top 20 High-Yield Crops',\n",
        "    labels={'x':'Mean Yield (kg/ha)', 'y':'Crop'}\n",
        ")\n",
        "fig.update_layout(title_x=0.5)\n",
        "fig.show()\n"
      ]
    },
    {
      "cell_type": "markdown",
      "metadata": {
        "id": "Lh6WWjYXX5tj"
      },
      "source": [
        "## Across Regions"
      ]
    },
    {
      "cell_type": "code",
      "execution_count": null,
      "metadata": {
        "id": "dbhad6GLVGdq"
      },
      "outputs": [],
      "source": [
        "import pandas as pd\n",
        "\n",
        "# Sum production per region\n",
        "region_production = (\n",
        "    Production_df\n",
        "    .groupby('Area')['Production(tons)']\n",
        "    .sum()\n",
        "    .sort_values(ascending=False)\n",
        ")\n",
        "\n",
        "print(region_production.head(10))  # Top 10 highly productive regions\n"
      ]
    },
    {
      "cell_type": "markdown",
      "metadata": {
        "id": "_UUPyT97YTtm"
      },
      "source": [
        "### Top Regions"
      ]
    },
    {
      "cell_type": "code",
      "execution_count": null,
      "metadata": {
        "id": "NN8MKNU4VGav"
      },
      "outputs": [],
      "source": [
        "import plotly.express as px\n",
        "\n",
        "# Top 20 regions for clarity\n",
        "top_regions = region_production.head(20)\n",
        "\n",
        "fig = px.bar(\n",
        "    x=top_regions.values,\n",
        "    y=top_regions.index,\n",
        "    orientation='h',\n",
        "    title='Top 20 Highly Productive Regions',\n",
        "    labels={'x':'Total Production (tons)', 'y':'Region'}\n",
        ")\n",
        "\n",
        "fig.update_layout(title_x=0.5)\n",
        "fig.show()\n"
      ]
    },
    {
      "cell_type": "markdown",
      "metadata": {
        "id": "CIHSy_laZLKV"
      },
      "source": [
        "### Production by Region vs Crop"
      ]
    },
    {
      "cell_type": "code",
      "execution_count": null,
      "metadata": {
        "id": "xF87MY2ZVGX7"
      },
      "outputs": [],
      "source": [
        "# Aggregate by region and crop\n",
        "region_crop_prod = (\n",
        "    Production_df.groupby(['Area', 'Item'])['Production(tons)'].sum().reset_index()\n",
        ")\n",
        "\n",
        "# Filter top 20 crops for clarity\n",
        "top_crops = region_crop_prod['Item'].value_counts().head(20).index\n",
        "region_crop_filtered = region_crop_prod[region_crop_prod['Item'].isin(top_crops)]\n",
        "\n",
        "fig = px.density_heatmap(\n",
        "    region_crop_filtered,\n",
        "    x='Item',\n",
        "    y='Area',\n",
        "    z='Production(tons)',\n",
        "    color_continuous_scale='Viridis',\n",
        "    title='🌍 Region vs Crop Production Heatmap (Top 20 Crops)'\n",
        ")\n",
        "\n",
        "fig.update_layout(\n",
        "    xaxis_title=\"Crop Type (Item)\",\n",
        "    yaxis_title=\"Region\",\n",
        "    title_x=0.5,\n",
        "    height=1000,\n",
        "    width=1500\n",
        ")\n",
        "\n",
        "fig.show()\n"
      ]
    },
    {
      "cell_type": "markdown",
      "metadata": {
        "id": "RoE5yG1CZQyG"
      },
      "source": [
        "## Productivity Analysis"
      ]
    },
    {
      "cell_type": "markdown",
      "metadata": {
        "id": "civp_tjKZ-3s"
      },
      "source": [
        "### Compare Productivity Across Crops"
      ]
    },
    {
      "cell_type": "code",
      "execution_count": null,
      "metadata": {
        "id": "YA76kmrRVGU6"
      },
      "outputs": [],
      "source": [
        "import plotly.express as px\n",
        "\n",
        "top_crops = Production_df['Item'].value_counts().head(20).index\n",
        "df_top_crops = Production_df[Production_df['Item'].isin(top_crops)]\n",
        "\n",
        "fig = px.box(\n",
        "    df_top_crops,\n",
        "    x='Item',\n",
        "    y='Yield(kg/ha)',\n",
        "    color='Item',\n",
        "    points='all',  # Show all data points\n",
        "    title='🌱 Crop-Wise Yield Distribution'\n",
        ")\n",
        "\n",
        "fig.update_layout(\n",
        "    xaxis_tickangle=-45,\n",
        "    xaxis_title=\"Crop Type\",\n",
        "    yaxis_title=\"Yield (kg/ha)\",\n",
        "    showlegend=False,\n",
        "    title_x=0.5,\n",
        "    height=900,\n",
        "    width=1000\n",
        ")\n",
        "fig.show()\n"
      ]
    },
    {
      "cell_type": "markdown",
      "metadata": {
        "id": "LoVC2BXla3HP"
      },
      "source": [
        "### Compare Productivity Across Regions"
      ]
    },
    {
      "cell_type": "code",
      "execution_count": null,
      "metadata": {
        "id": "DoS9tBQ1VGSF"
      },
      "outputs": [],
      "source": [
        "top_regions = Production_df['Area'].value_counts().head(20).index\n",
        "df_top_regions = Production_df[Production_df['Area'].isin(top_regions)]\n",
        "\n",
        "fig = px.box(\n",
        "    df_top_regions,\n",
        "    x='Area',\n",
        "    y='Yield(kg/ha)',\n",
        "    color='Area',\n",
        "    points='all',\n",
        "    title='🌍 Regional Yield Distribution (Top 20 Countries)'\n",
        ")\n",
        "\n",
        "fig.update_layout(\n",
        "    xaxis_tickangle=-45,\n",
        "    xaxis_title=\"Region\",\n",
        "    yaxis_title=\"Yield (kg/ha)\",\n",
        "    showlegend=False,\n",
        "    title_x=0.5\n",
        ")\n",
        "fig.show()\n"
      ]
    },
    {
      "cell_type": "markdown",
      "metadata": {
        "id": "S-d7a_FW5O2q"
      },
      "source": [
        "# outliers detection"
      ]
    },
    {
      "cell_type": "code",
      "execution_count": null,
      "metadata": {
        "id": "OEz55ENH-B8K"
      },
      "outputs": [],
      "source": [
        "def count_outliers(crop_predict_new, columns):\n",
        "    outlier_counts = {}\n",
        "\n",
        "    for col in columns:\n",
        "        Q1 = crop_predict_new[col].quantile(0.25)\n",
        "        Q3 = crop_predict_new[col].quantile(0.75)\n",
        "        IQR = Q3 - Q1\n",
        "        lower = Q1 - 1.5 * IQR\n",
        "        upper = Q3 + 1.5 * IQR\n",
        "\n",
        "        outliers = crop_predict_new[(crop_predict_new[col] < lower) | (crop_predict_new[col] > upper)]\n",
        "        outlier_counts[col] = len(outliers)\n",
        "        print(f\"{col}: {len(outliers)} outliers\")\n",
        "\n",
        "    return outlier_counts\n",
        "\n",
        "# Example usage\n",
        "num_cols = ['Area_harvested(ha)', 'Yield(kg/ha)', 'Production(tons)']\n",
        "outlier_summary = count_outliers(crop_predict_new, num_cols)\n"
      ]
    },
    {
      "cell_type": "code",
      "execution_count": null,
      "metadata": {
        "id": "FivtMiXU5wSP"
      },
      "outputs": [],
      "source": [
        "import plotly.express as px\n",
        "\n",
        "# Boxplot for Area_harvested\n",
        "fig = px.box(crop_predict_new, y='Area_harvested(ha)', points='all', title='Area_harvested Outliers')\n",
        "fig.show()\n",
        "\n",
        "# Boxplot for Production\n",
        "fig = px.box(crop_predict_new, y='Production(tons)', points='all', title='Production Outliers')\n",
        "fig.show()\n",
        "\n",
        "# Boxplot for Yield\n",
        "fig = px.box(crop_predict_new, y='Yield(kg/ha)', points='all', title='Yield Outliers')\n",
        "fig.show()"
      ]
    },
    {
      "cell_type": "code",
      "execution_count": null,
      "metadata": {
        "id": "hvAIvFAhcaBm"
      },
      "outputs": [],
      "source": [
        "Production_df.head(6)"
      ]
    },
    {
      "cell_type": "markdown",
      "metadata": {
        "id": "pILh8MCDJe56"
      },
      "source": [
        "# Encoding the categorical data"
      ]
    },
    {
      "cell_type": "code",
      "execution_count": null,
      "metadata": {
        "id": "zDeJYHXCcZ-S"
      },
      "outputs": [],
      "source": [
        "from sklearn.preprocessing import LabelEncoder\n",
        "\n",
        "# Copy the original dataset\n",
        "encoded_df = Production_df.copy()\n",
        "\n",
        "# Initialize LabelEncoders for categorical columns\n",
        "le_area = LabelEncoder()\n",
        "le_item = LabelEncoder()\n",
        "\n",
        "# Encode categorical columns\n",
        "encoded_df['Area'] = le_area.fit_transform(encoded_df['Area'])\n",
        "encoded_df['Item'] = le_item.fit_transform(encoded_df['Item'])\n",
        "\n",
        "# Encode Boolean columns (convert True/False → 1/0)\n",
        "bool_cols = ['Prod_imputed', 'area_imputed', 'yield_imputed']\n",
        "encoded_df[bool_cols] = encoded_df[bool_cols].astype(int)\n",
        "\n",
        "# ✅ Verification\n",
        "# print(encoded_df.dtypes)\n",
        "# print(encoded_df.head())\n"
      ]
    },
    {
      "cell_type": "markdown",
      "metadata": {
        "id": "fjPekpe7gZVe"
      },
      "source": [
        "# Regression Model"
      ]
    },
    {
      "cell_type": "markdown",
      "metadata": {
        "id": "3mCqm0LPLOGj"
      },
      "source": [
        "## Define Features and Target"
      ]
    },
    {
      "cell_type": "code",
      "execution_count": null,
      "metadata": {
        "id": "bZwAfSD-LDYY"
      },
      "outputs": [],
      "source": [
        "X = encoded_df[['Area', 'Item', 'Year',\n",
        "                'Area_harvested(ha)', 'Yield(kg/ha)',\n",
        "                'Prod_imputed', 'area_imputed', 'yield_imputed']]\n",
        "\n",
        "y = encoded_df['Production(tons)']"
      ]
    },
    {
      "cell_type": "markdown",
      "metadata": {
        "id": "O3ehz0JgLae9"
      },
      "source": [
        "## Split the Data"
      ]
    },
    {
      "cell_type": "code",
      "execution_count": null,
      "metadata": {
        "id": "VjTfA4zXLbNJ"
      },
      "outputs": [],
      "source": [
        "from sklearn.model_selection import train_test_split\n",
        "\n",
        "X_train, X_test, y_train, y_test = train_test_split(\n",
        "    X, y, test_size=0.2, random_state=42\n",
        ")"
      ]
    },
    {
      "cell_type": "code",
      "execution_count": null,
      "metadata": {
        "id": "hcUOFbtbMYii"
      },
      "outputs": [],
      "source": [
        "X_train"
      ]
    },
    {
      "cell_type": "code",
      "execution_count": null,
      "metadata": {
        "id": "CFrV6ME-Mdu9"
      },
      "outputs": [],
      "source": [
        "X_test"
      ]
    },
    {
      "cell_type": "code",
      "execution_count": null,
      "metadata": {
        "id": "nknTkB0cM9pl"
      },
      "outputs": [],
      "source": [
        "y_train"
      ]
    },
    {
      "cell_type": "code",
      "execution_count": null,
      "metadata": {
        "id": "cCo7cc1oNAyk"
      },
      "outputs": [],
      "source": [
        "y_test"
      ]
    },
    {
      "cell_type": "markdown",
      "metadata": {
        "id": "_0rKC5UYLjvQ"
      },
      "source": [
        "## Standardize Numeric Features"
      ]
    },
    {
      "cell_type": "code",
      "execution_count": null,
      "metadata": {
        "id": "4lpGJC25LjWx"
      },
      "outputs": [],
      "source": [
        "from sklearn.preprocessing import StandardScaler\n",
        "\n",
        "scaler = StandardScaler()\n",
        "X_train_scaled = scaler.fit_transform(X_train)\n",
        "X_test_scaled = scaler.transform(X_test)"
      ]
    },
    {
      "cell_type": "code",
      "execution_count": null,
      "metadata": {
        "id": "-gt5sVSENkUK"
      },
      "outputs": [],
      "source": [
        "X_test_scaled"
      ]
    },
    {
      "cell_type": "markdown",
      "metadata": {
        "id": "RDZw9FD1ME3W"
      },
      "source": [
        "### Linear model"
      ]
    },
    {
      "cell_type": "code",
      "execution_count": null,
      "metadata": {
        "id": "pukKNdPIMFSe"
      },
      "outputs": [],
      "source": [
        "from sklearn.linear_model import LinearRegression\n",
        "import numpy as np\n",
        "\n",
        "model = LinearRegression()\n",
        "model.fit(X_train_scaled, y_train)\n",
        "\n"
      ]
    },
    {
      "cell_type": "code",
      "execution_count": null,
      "metadata": {
        "id": "kE00UqJvNJD-"
      },
      "outputs": [],
      "source": [
        "model"
      ]
    },
    {
      "cell_type": "code",
      "execution_count": null,
      "metadata": {
        "id": "5kCI1ZJzNJdL"
      },
      "outputs": [],
      "source": [
        "y_pred = model.predict(X_test_scaled)\n",
        "print(y_pred)"
      ]
    },
    {
      "cell_type": "code",
      "execution_count": null,
      "metadata": {
        "id": "z4zYPhWjNStM"
      },
      "outputs": [],
      "source": [
        "import plotly.express as px\n",
        "import pandas as pd\n",
        "import numpy as np\n",
        "\n",
        "# Example: y_test and y_pred are your actual and predicted values\n",
        "# (Replace with your real arrays)\n",
        "# y_pred = model.predict(X_test_scaled)\n",
        "# y_pred = np.maximum(y_pred, 0)  # ensure no negatives if needed\n",
        "\n",
        "# Create DataFrame for plotting\n",
        "results_df = pd.DataFrame({\n",
        "    \"Actual Production\": y_test,\n",
        "    \"Predicted Production\": y_pred\n",
        "})\n",
        "\n",
        "# Scatter plot\n",
        "fig = px.scatter(\n",
        "    results_df,\n",
        "    x=\"Actual Production\",\n",
        "    y=\"Predicted Production\",\n",
        "    trendline=\"ols\",\n",
        "    opacity=0.7,\n",
        "    title=\"📊 Actual vs Predicted Production (Model Performance)\",\n",
        "    labels={\n",
        "        \"Actual Production\": \"Actual Production (tons)\",\n",
        "        \"Predicted Production\": \"Predicted Production (tons)\"\n",
        "    },\n",
        "    color_discrete_sequence=[\"#1f77b4\"]\n",
        ")\n",
        "\n",
        "# Add a perfect-fit diagonal line\n",
        "min_val = min(results_df[\"Actual Production\"].min(), results_df[\"Predicted Production\"].min())\n",
        "max_val = max(results_df[\"Actual Production\"].max(), results_df[\"Predicted Production\"].max())\n",
        "\n",
        "fig.add_shape(\n",
        "    type=\"line\",\n",
        "    x0=min_val, y0=min_val,\n",
        "    x1=max_val, y1=max_val,\n",
        "    line=dict(color=\"red\", dash=\"dash\"),\n",
        "    name=\"Perfect Fit\"\n",
        ")\n",
        "\n",
        "fig.update_layout(\n",
        "    title_x=0.5,\n",
        "    width=800,\n",
        "    height=600,\n",
        "    template=\"plotly_white\"\n",
        ")\n",
        "\n",
        "fig.show()\n"
      ]
    },
    {
      "cell_type": "code",
      "execution_count": null,
      "metadata": {
        "id": "rlKF4ZjsFYia"
      },
      "outputs": [],
      "source": [
        "from sklearn.metrics import r2_score, mean_squared_error, mean_absolute_error\n",
        "import numpy as np\n",
        "\n",
        "r2 = r2_score(y_test, y_pred)\n",
        "rmse = np.sqrt(mean_squared_error(y_test, y_pred))\n",
        "mae = mean_absolute_error(y_test, y_pred)\n",
        "\n",
        "print(f\"R² Score: {r2:.3f}\")\n",
        "print(f\"RMSE: {rmse:.2f}\")\n",
        "print(f\"MAE: {mae:.2f}\")\n"
      ]
    },
    {
      "cell_type": "markdown",
      "metadata": {
        "id": "qecaCdpBgpGW"
      },
      "source": [
        "# 5 Regression Models"
      ]
    },
    {
      "cell_type": "markdown",
      "metadata": {
        "id": "b_KCo_Juh6II"
      },
      "source": [
        "## log-transform"
      ]
    },
    {
      "cell_type": "code",
      "execution_count": null,
      "metadata": {
        "id": "hr2qmci-X-Of"
      },
      "outputs": [],
      "source": [
        "import numpy as np\n",
        "\n",
        "# Apply log-transform\n",
        "encoded_df['log_Area'] = np.log1p(encoded_df['Area_harvested(ha)'])\n",
        "encoded_df['log_Yield'] = np.log1p(encoded_df['Yield(kg/ha)'])\n",
        "encoded_df['log_Production'] = np.log1p(encoded_df['Production(tons)'])\n"
      ]
    },
    {
      "cell_type": "code",
      "execution_count": null,
      "metadata": {
        "id": "inLz-0yIqKuU"
      },
      "outputs": [],
      "source": [
        "# final encoded dataset\n",
        "encoded_df.to_excel('crop_encoded.xlsx', index=False)"
      ]
    },
    {
      "cell_type": "code",
      "execution_count": null,
      "metadata": {
        "id": "4FIfmnmlpsio"
      },
      "outputs": [],
      "source": [
        "encoded_df.head()"
      ]
    },
    {
      "cell_type": "markdown",
      "metadata": {
        "id": "eLBZ11BIM5E7"
      },
      "source": [
        "# Split, Train, Predict, Evaluate and Save trained model\n"
      ]
    },
    {
      "cell_type": "code",
      "execution_count": null,
      "metadata": {
        "id": "qPC77X9_GdgF"
      },
      "outputs": [],
      "source": [
        "import pandas as pd\n",
        "import numpy as np\n",
        "from sklearn.model_selection import train_test_split\n",
        "from sklearn.preprocessing import StandardScaler\n",
        "from sklearn.metrics import r2_score, mean_squared_error, mean_absolute_error\n",
        "from sklearn.linear_model import LinearRegression\n",
        "from sklearn.svm import SVR\n",
        "from sklearn.neighbors import KNeighborsRegressor\n",
        "from sklearn.tree import DecisionTreeRegressor\n",
        "from sklearn.ensemble import RandomForestRegressor\n",
        "import pickle\n",
        "\n",
        "# -----------------------------\n",
        "# Load dataset\n",
        "# -----------------------------\n",
        "encoded_df = pd.read_excel(\"crop_encoded.xlsx\")  # Must include log_Production, log_Area, log_Yield\n",
        "\n",
        "X = encoded_df[['Area', 'Item', 'Year', 'log_Area', 'log_Yield']]\n",
        "y = encoded_df['Production(tons)']  # Raw production in tons for evaluation\n",
        "\n",
        "# Train/test split\n",
        "X_train, X_test, y_train, y_test = train_test_split(X, y, test_size=0.2, random_state=42)\n",
        "\n",
        "# Log-transform target for training\n",
        "y_train_log = np.log1p(y_train)\n",
        "y_test_log = np.log1p(y_test)\n",
        "\n",
        "# -----------------------------\n",
        "# Feature scaling (for SVR & KNN)\n",
        "# -----------------------------\n",
        "scaler = StandardScaler()\n",
        "X_train_scaled = scaler.fit_transform(X_train)\n",
        "X_test_scaled = scaler.transform(X_test)\n",
        "\n",
        "# -----------------------------\n",
        "# Define models\n",
        "# -----------------------------\n",
        "models = {\n",
        "    \"LinearRegression\": LinearRegression(),\n",
        "    \"SVR\": SVR(),\n",
        "    \"KNN\": KNeighborsRegressor(),\n",
        "    \"DecisionTree\": DecisionTreeRegressor(),\n",
        "    \"RandomForest\": RandomForestRegressor()\n",
        "}\n",
        "\n",
        "# -----------------------------\n",
        "# Train, predict, evaluate\n",
        "# -----------------------------\n",
        "results = []\n",
        "\n",
        "for name, model in models.items():\n",
        "    # Use scaled features for SVR and KNN\n",
        "    if name in [\"SVR\", \"KNN\"]:\n",
        "        model.fit(X_train_scaled, y_train_log)\n",
        "        y_pred_log = model.predict(X_test_scaled)\n",
        "    else:\n",
        "        model.fit(X_train, y_train_log)\n",
        "        y_pred_log = model.predict(X_test)\n",
        "\n",
        "    # Convert back to actual tons\n",
        "    y_pred_actual = np.expm1(y_pred_log)\n",
        "\n",
        "    # Evaluate in actual tons\n",
        "    mae = mean_absolute_error(y_test, y_pred_actual)\n",
        "    rmse = np.sqrt(mean_squared_error(y_test, y_pred_actual))\n",
        "    r2 = r2_score(y_test, y_pred_actual)\n",
        "\n",
        "    print(f\"{name} → R²: {r2:.3f}, MAE: {mae:,.0f}, RMSE: {rmse:,.0f}\")\n",
        "\n",
        "    # Save trained model\n",
        "    filename = f\"{name}_model.pkl\"\n",
        "    with open(filename, \"wb\") as f:\n",
        "        pickle.dump(model, f)\n",
        "\n",
        "    results.append({\n",
        "        \"Model\": name,\n",
        "        \"R2\": r2,\n",
        "        \"MAE\": mae,\n",
        "        \"RMSE\": rmse\n",
        "    })\n",
        "\n",
        "# -----------------------------\n",
        "# Summary\n",
        "# -----------------------------\n",
        "metrics_df = pd.DataFrame(results)\n",
        "print(\"\\nAll model metrics:\")\n",
        "print(metrics_df)\n"
      ]
    },
    {
      "cell_type": "markdown",
      "metadata": {
        "id": "af9gZS6hho8S"
      },
      "source": [
        "## Best and worst model"
      ]
    },
    {
      "cell_type": "code",
      "execution_count": null,
      "metadata": {
        "id": "cmGxhb2OWw9K"
      },
      "outputs": [],
      "source": [
        "from math import e\n",
        "import pandas as pd\n",
        "\n",
        "results = metrics_df\n",
        "\n",
        "# Find best and worst models\n",
        "best_model = results.loc[results['R2'].idxmax()]\n",
        "worst_model = results.loc[results['R2'].idxmin()]\n",
        "\n",
        "print(\"✅ Best Model:\")\n",
        "print(best_model, \"\\n\")\n",
        "\n",
        "print(\"❌ Worst Model:\")\n",
        "print(worst_model)\n"
      ]
    },
    {
      "cell_type": "markdown",
      "metadata": {
        "id": "4ktWanSrhvEG"
      },
      "source": [
        "## Plot Evaluation Metrics"
      ]
    },
    {
      "cell_type": "code",
      "execution_count": null,
      "metadata": {
        "id": "Hj64ub2lWw5X"
      },
      "outputs": [],
      "source": [
        "import plotly.graph_objects as go\n",
        "import pandas as pd\n",
        "\n",
        "results = metrics_df\n",
        "\n",
        "# Create grouped bar chart\n",
        "fig = go.Figure(data=[\n",
        "    go.Bar(name='MAE', x=results['Model'], y=results['MAE']),\n",
        "    go.Bar(name='RMSE', x=results['Model'], y=results['RMSE']),\n",
        "    go.Bar(name='R²', x=results['Model'], y=results['R2'])\n",
        "])\n",
        "\n",
        "fig.update_layout(\n",
        "    barmode='group',\n",
        "    title='Model Performance Comparison',\n",
        "    xaxis_title='Models',\n",
        "    yaxis_title='Score / Error',\n",
        "    width=900,\n",
        "    height=500\n",
        ")\n",
        "\n",
        "fig.show()\n"
      ]
    },
    {
      "cell_type": "markdown",
      "metadata": {
        "id": "a3lbYWv0h3RI"
      },
      "source": [
        "## Plot Actual vs Predicted values for all models"
      ]
    },
    {
      "cell_type": "code",
      "source": [
        "import plotly.graph_objects as go\n",
        "\n",
        "# Create Plotly figure\n",
        "fig = go.Figure()\n",
        "\n",
        "# Loop through models again for visualization\n",
        "for name, model in models.items():\n",
        "    # Predict (scaled for SVR & KNN)\n",
        "    if name in [\"SVR\", \"KNN\"]:\n",
        "        y_pred_log = model.predict(X_test_scaled)\n",
        "    else:\n",
        "        y_pred_log = model.predict(X_test)\n",
        "\n",
        "    # Convert predictions back to actual scale\n",
        "    y_pred_actual = np.expm1(y_pred_log)\n",
        "\n",
        "    # Sort for cleaner visualization\n",
        "    sorted_idx = np.argsort(y_test)\n",
        "    y_test_sorted = np.array(y_test)[sorted_idx]\n",
        "    y_pred_sorted = y_pred_actual[sorted_idx]\n",
        "\n",
        "    # Add each model’s line\n",
        "    fig.add_trace(go.Scatter(\n",
        "        x=y_test_sorted,\n",
        "        y=y_pred_sorted,\n",
        "        mode='lines+markers',\n",
        "        visible='legendonly',  # 🔹 also hidden until clicked\n",
        "        name=f\"{name}\",\n",
        "        line=dict(width=2),\n",
        "        marker=dict(size=5),\n",
        "        hovertemplate=\"<b>Actual:</b> %{x:,.0f}<br><b>Predicted:</b> %{y:,.0f}\"\n",
        "    ))\n",
        "\n",
        "# Add perfect prediction reference line (y = x)\n",
        "fig.add_trace(go.Scatter(\n",
        "    x=y_test,\n",
        "    y=y_test,\n",
        "    mode='lines',\n",
        "    name=\"Perfect Prediction (y=x)\",\n",
        "    line=dict(color='black', dash='dot')\n",
        "))\n",
        "\n",
        "# Customize layout\n",
        "fig.update_layout(\n",
        "    title=\"📈 Actual vs Predicted Crop Production for All Models\",\n",
        "    xaxis_title=\"Actual Production (tons)\",\n",
        "    yaxis_title=\"Predicted Production (tons)\",\n",
        "    template=\"plotly_white\",\n",
        "    legend_title=\"Model\",\n",
        "    width=950,\n",
        "    height=600\n",
        ")\n",
        "\n",
        "fig.show()\n"
      ],
      "metadata": {
        "id": "rQR-uEcFbOLu"
      },
      "execution_count": null,
      "outputs": []
    },
    {
      "cell_type": "markdown",
      "metadata": {
        "id": "_bMlDELQ64-l"
      },
      "source": [
        "## Added area and item name in dataset"
      ]
    },
    {
      "cell_type": "code",
      "execution_count": null,
      "metadata": {
        "id": "Jd62k1Nw6A1I"
      },
      "outputs": [],
      "source": [
        "import pandas as pd\n",
        "\n",
        "# Load both files\n",
        "original = pd.read_excel(\"crop_production.xlsx\")\n",
        "encoded = pd.read_excel(\"crop_encoded.xlsx\")\n",
        "\n",
        "# Add original text columns to encoded dataframe\n",
        "encoded['Area_name'] = original['Area']\n",
        "encoded['Item_name'] = original['Item']\n",
        "\n",
        "# Save the merged file\n",
        "encoded.to_excel(\"crop_encoded.xlsx\", index=False)\n",
        "\n",
        "print(\"✅ Added original Area and Item names to encoded file successfully!\")\n"
      ]
    },
    {
      "cell_type": "markdown",
      "metadata": {
        "id": "xbCNKd1I6j03"
      },
      "source": [
        "# Streamlit app"
      ]
    },
    {
      "cell_type": "code",
      "execution_count": null,
      "metadata": {
        "id": "E6p0kw6x2K1P"
      },
      "outputs": [],
      "source": [
        "# %%writefile app.py"
      ]
    },
    {
      "cell_type": "code",
      "execution_count": null,
      "metadata": {
        "id": "qXlagy9s0oPx"
      },
      "outputs": [],
      "source": [
        "code = \"\"\"\n",
        "import streamlit as st\n",
        "import pandas as pd\n",
        "import numpy as np\n",
        "import pickle\n",
        "import datetime\n",
        "import plotly.graph_objects as go\n",
        "from sklearn.metrics import r2_score, mean_squared_error, mean_absolute_error\n",
        "from sklearn.preprocessing import StandardScaler\n",
        "\n",
        "# -------------------------------\n",
        "# Load dataset and trained models\n",
        "# -------------------------------\n",
        "@st.cache_data\n",
        "def load_data():\n",
        "    return pd.read_excel(\"crop_encoded.xlsx\")  # Must include Area_name, Item_name, log_Production etc.\n",
        "\n",
        "@st.cache_resource\n",
        "def load_models():\n",
        "    model_paths = {\n",
        "        \"LinearRegression\": \"LinearRegression_model.pkl\",\n",
        "        \"RandomForest\": \"RandomForest_model.pkl\",\n",
        "        \"DecisionTree\": \"DecisionTree_model.pkl\",\n",
        "        \"SVR\": \"SVR_model.pkl\",\n",
        "        \"KNN\": \"KNN_model.pkl\"\n",
        "    }\n",
        "    models = {}\n",
        "    for name, path in model_paths.items():\n",
        "        with open(path, \"rb\") as f:\n",
        "            models[name] = pickle.load(f)\n",
        "    return models\n",
        "\n",
        "# -------------------------------\n",
        "# Initialize data and models\n",
        "# -------------------------------\n",
        "data = load_data()\n",
        "models_dict = load_models()\n",
        "\n",
        "# -------------------------------\n",
        "# Sidebar Inputs\n",
        "# -------------------------------\n",
        "st.sidebar.header(\"🧭 Input Parameters\")\n",
        "\n",
        "mapping_area = dict(zip(data['Area_name'], data['Area']))\n",
        "mapping_item = dict(zip(data['Item_name'], data['Item']))\n",
        "\n",
        "area_input = st.sidebar.selectbox(\"🌍 Select Country/Region\", list(mapping_area.keys()))\n",
        "item_input = st.sidebar.selectbox(\"🌾 Select Crop Item\", list(mapping_item.keys()))\n",
        "\n",
        "current_year = datetime.datetime.now().year\n",
        "year_input = st.sidebar.number_input(\n",
        "    \"📅 Select Year\",\n",
        "    min_value=int(data['Year'].min()),\n",
        "    max_value=current_year + 10,  # allows selecting up to 10 years into the future\n",
        "    value=current_year\n",
        ")\n",
        "\n",
        "# Historical values\n",
        "hist_values = data[\n",
        "    (data['Area'] == mapping_area[area_input]) &\n",
        "    (data['Item'] == mapping_item[item_input]) &\n",
        "    (data['Year'] == year_input)\n",
        "]\n",
        "\n",
        "# Inputs for area and yield\n",
        "area_value = st.sidebar.number_input(\n",
        "    \"Enter Area Harvested (ha)\",\n",
        "    value=float(hist_values['Area_harvested(ha)'].values[0]) if not hist_values.empty else 0\n",
        ")\n",
        "\n",
        "yield_value = st.sidebar.number_input(\n",
        "    \"Enter Yield (kg/ha)\",\n",
        "    value=float(hist_values['Yield(kg/ha)'].values[0]) if not hist_values.empty else 0\n",
        ")\n",
        "\n",
        "model_input = st.sidebar.selectbox(\"🤖 Select Model\", list(models_dict.keys()))\n",
        "predict_button = st.sidebar.button(\"🔮 Predict Production\")\n",
        "\n",
        "# -------------------------------\n",
        "# Main UI\n",
        "# -------------------------------\n",
        "st.title(\"🌾 Crop Production Predictor Dashboard\")\n",
        "st.subheader(\"📊 Prediction Results & Visualization\")\n",
        "\n",
        "if predict_button:\n",
        "    model = models_dict[model_input]\n",
        "\n",
        "    # -------------------------------\n",
        "    # Encode input\n",
        "    # -------------------------------\n",
        "    input_encoded = pd.DataFrame({\n",
        "        'Area': [mapping_area[area_input]],\n",
        "        'Item': [mapping_item[item_input]],\n",
        "        'Year': [year_input],\n",
        "        'log_Area': [np.log1p(area_value)],\n",
        "        'log_Yield': [np.log1p(yield_value)]\n",
        "    })\n",
        "\n",
        "    # -------------------------------\n",
        "    # Optional: Scale log features for SVR/KNN\n",
        "    # -------------------------------\n",
        "    if model_input in ['SVR', 'KNN']:\n",
        "        scaler = StandardScaler()\n",
        "        X_scaled = scaler.fit(data[['log_Area', 'log_Yield']])\n",
        "        input_encoded[['log_Area', 'log_Yield']] = scaler.transform(input_encoded[['log_Area', 'log_Yield']])\n",
        "\n",
        "    # -------------------------------\n",
        "    # Predict and convert to tons\n",
        "    # -------------------------------\n",
        "    pred_log = model.predict(input_encoded)\n",
        "    pred_log = np.clip(pred_log, 0, None)  # Prevent negative predictions\n",
        "    pred_actual = np.expm1(pred_log)\n",
        "\n",
        "    st.success(f\\\"\\\"\\\"\n",
        "    🌾 **Predicted Production:** {pred_actual[0]:,.0f} tons\\n\n",
        "    🌱 **Crop:** {item_input}\\n\n",
        "    📍 **Region:** {area_input}\\n\n",
        "    📅 **Year:** {year_input}\\n\n",
        "    ⚙️ **Model Used:** {model_input}\n",
        "    \\\"\\\"\\\")\n",
        "\n",
        "    # -------------------------------\n",
        "    # Production Trend for all models\n",
        "    # -------------------------------\n",
        "    hist_df = data[(data['Area_name'] == area_input) & (data['Item_name'] == item_input)].copy()\n",
        "    hist_df['Production(tons)'] = np.expm1(hist_df['log_Production'])\n",
        "\n",
        "    fig = go.Figure()\n",
        "\n",
        "    # Actual production\n",
        "    fig.add_trace(go.Scatter(\n",
        "        x=hist_df['Year'],\n",
        "        y=hist_df['Production(tons)'],\n",
        "        mode='lines+markers',\n",
        "        name='Actual',\n",
        "        line=dict(color='black', width=3),\n",
        "        marker=dict(size=6),\n",
        "        hovertemplate=\"Year: %{x}<br>Actual: %{y:,.0f} tons\"\n",
        "    ))\n",
        "\n",
        "    # Predictions from all models (hidden by default)\n",
        "    for name, m in models_dict.items():\n",
        "        model_data = data[(data['Area_name'] == area_input) & (data['Item_name'] == item_input)].copy()\n",
        "        X_input = model_data[['Area', 'Item', 'Year', 'log_Area', 'log_Yield']]\n",
        "\n",
        "        y_pred_log = m.predict(X_input)\n",
        "        y_pred_actual = np.expm1(y_pred_log)\n",
        "\n",
        "        fig.add_trace(go.Scatter(\n",
        "            x=model_data['Year'],\n",
        "            y=y_pred_actual,\n",
        "            mode='lines+markers',\n",
        "            name=f\"{name} Prediction\",\n",
        "            visible='legendonly',  # 🔹 hidden until clicked in legend\n",
        "            marker=dict(size=5),\n",
        "            hovertemplate=f\"Year: %{{x}}<br>{name}: %{{y:,.0f}} tons\"\n",
        "        ))\n",
        "\n",
        "    # Future prediction for selected year\n",
        "    for name, m in models_dict.items():\n",
        "        input_encoded = pd.DataFrame({\n",
        "            'Area': [mapping_area[area_input]],\n",
        "            'Item': [mapping_item[item_input]],\n",
        "            'Year': [year_input],\n",
        "            'log_Area': [np.log1p(area_value)],\n",
        "            'log_Yield': [np.log1p(yield_value)]\n",
        "        })\n",
        "        pred_future_log = m.predict(input_encoded)\n",
        "        pred_future_actual = np.expm1(pred_future_log)\n",
        "\n",
        "        fig.add_trace(go.Scatter(\n",
        "            x=[year_input],\n",
        "            y=[pred_future_actual[0]],\n",
        "            mode='markers+text',\n",
        "            name=f\"{name} {year_input} Prediction\",\n",
        "            visible='legendonly',  # 🔹 also hidden until clicked\n",
        "            # showlegend=False,\n",
        "            marker=dict(size=10, symbol=\"star\"),\n",
        "            text=[f\"{name}\"],\n",
        "            textposition=\"top center\",\n",
        "            hovertemplate=f\"{name} Predicted: %{{y:,.0f}} tons\"\n",
        "        ))\n",
        "\n",
        "    # Layout\n",
        "    fig.update_layout(\n",
        "        title=f\"📈 Production Trend for {item_input} in {area_input} (All Models)\",\n",
        "        xaxis_title=\"Year\",\n",
        "        yaxis_title=\"Production (tons)\",\n",
        "        template=\"plotly_white\",\n",
        "        width=900,\n",
        "        height=500,\n",
        "        legend=dict(title=\"Legend\", x=1, y=1),\n",
        "    )\n",
        "\n",
        "    st.plotly_chart(fig, use_container_width=True)\n",
        "\n",
        "\n",
        "else:\n",
        "    st.info(\"👈 Select inputs and click **Predict Production** from the sidebar to see results.\")\n",
        "\n",
        "\n",
        "\n",
        "\"\"\"\n",
        "\n",
        "with open(\"app.py\", \"w\") as f:\n",
        "    f.write(code)"
      ]
    },
    {
      "cell_type": "code",
      "execution_count": null,
      "metadata": {
        "id": "aRVQ4PXP08ou"
      },
      "outputs": [],
      "source": [
        "!pip install streamlit pyngrok plotly\n"
      ]
    },
    {
      "cell_type": "markdown",
      "metadata": {
        "id": "QOffwL3kBZ6u"
      },
      "source": [
        "# Run"
      ]
    },
    {
      "cell_type": "code",
      "execution_count": null,
      "metadata": {
        "id": "7MYDvqCI8QER"
      },
      "outputs": [],
      "source": [
        "# Need to get ngrok authtoken to run the streamlit app in local so get the token form the ngrok site\n",
        "\n",
        "from pyngrok import ngrok\n",
        "\n",
        "# Open a tunnel to port 8501\n",
        "public_url = ngrok.connect(8501)\n",
        "print(public_url)\n",
        "\n",
        "# Run your Streamlit app\n",
        "!streamlit run app.py --server.port 8501 --server.address 0.0.0.0"
      ]
    }
  ],
  "metadata": {
    "colab": {
      "gpuType": "T4",
      "provenance": [],
      "toc_visible": true,
      "authorship_tag": "ABX9TyO+Dz8M9ulBC+Tq9DEwjJU6",
      "include_colab_link": true
    },
    "kernelspec": {
      "display_name": "Python 3",
      "name": "python3"
    },
    "language_info": {
      "name": "python"
    }
  },
  "nbformat": 4,
  "nbformat_minor": 0
}